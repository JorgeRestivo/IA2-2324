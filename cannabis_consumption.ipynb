{
 "cells": [
  {
   "cell_type": "code",
   "execution_count": null,
   "metadata": {},
   "outputs": [],
   "source": []
  },
  {
   "cell_type": "markdown",
   "id": "2fff071c",
   "metadata": {},
   "source": [
    "#Introduction\n",
    "##The Dataset\n",
    "\n",
    "The dataset used for this project was obtained from Kaggle's Drug Consumption Classification. This dataset contains records for 1885 respondents, each with 12 attributes."
   ]
  }
 ],
 "metadata": {
  "language_info": {
   "name": "python"
  }
 },
 "nbformat": 4,
 "nbformat_minor": 5
}
